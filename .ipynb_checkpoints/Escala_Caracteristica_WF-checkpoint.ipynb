{
 "cells": [
  {
   "cell_type": "markdown",
   "id": "ffe80a29",
   "metadata": {},
   "source": [
    "# Sistema Real\n",
    "\n",
    "## Calculando o número de Reynolds\n",
    "\n",
    "Tomando que **R-1** tem comprimento $L=7.07\\,cm,$ temos\n",
    "$$Re=\\frac{\\mathbf{u}L_x}{\\nu}=\\frac{7.917\\times 10^{-11}m/s\\times 7.07\\times 10^{-2}m}{0.6752\\times 10^{-6}\\,m^2/s}=8.289\\times 10^{-6}$$\n",
    "\n",
    "## Definindo o número de Mach\n",
    "\n",
    "O número de Mach deve ser $Ma<0.3$ para que o fluido esteja em um regime incompressível, ou seja, tenha densidade constante. Dados os valores experimentais, temos\n",
    "\n",
    "A vasão é $Q=0.10mL/min$ ou em SI é $Q=1.6\\times10^{-7}m^{3}/s$. Portanto a velocidade média do fluido é dada por \n",
    "\n",
    "$$\\mathbf{u}=Q\\cdot A.$$\n",
    "\n",
    "Escolhemos, a princípio, o core **R-1** com raio $1.255cm,$ e, portanto, área $A=4.948cm^2=4.948\\times 10^{-4}m^2.$ \n",
    "Dessa forma,temos que \n",
    "\n",
    "$$\\mathbf{u}=\\left(1.6\\times10^{-7}m^{3}/s\\right)\\times \\left(4.948\\times 10^{-4}m^2\\right)=7.917\\times 10^{-11}m/s$$\n",
    "\n",
    "Agora, para calcular o número de Mach, fazemos\n",
    "\n",
    "$$Ma=\\frac{7.917\\times 10^{-9}\\,m/s}{340.29\\,m/s}=2.33\\times 10^{-13}\\ll 0.3$$\n",
    "\n",
    "## Calculando o número de Knudsen\n",
    "\n",
    "O número de Knudsen é dado por $$Kn=\\frac{Ma}{Kn}=\\frac{2.330\\times 10^{-11}}{8.289\\times 10^{-6}}=2.81\\times 10^{-8}$$"
   ]
  },
  {
   "cell_type": "code",
   "execution_count": 4,
   "id": "43a565e8",
   "metadata": {},
   "outputs": [
    {
     "name": "stdout",
     "output_type": "stream",
     "text": [
      "What Scale you want to work (mm), (cm)? cm\n",
      "Comprimento da amostra em centímetros: 7.07\n",
      "Viscosidade do fluido: 0.6752\n",
      "Raio da amostra: 1.255\n",
      "Vasão em m^3/s: 0.00000016\n",
      "O número de Reynolds é 8.285601894549761e-06, o número de Mach é 2.3253476740427276e-13 e o de Knudsen é 2.806492157886964e-08.\n"
     ]
    }
   ],
   "source": [
    "# Aqui, calculamos o número de Reynolds, Mach e Knudsen\n",
    "c = 340.29\n",
    "scale = str(input('What Scale you want to work (mm), (cm)? '))\n",
    "if scale == 'mm':\n",
    "    tens = 10**(-6)# Definido em metros\n",
    "    L = float(input('Comprimento da amostra em micrometros: '))\n",
    "    L = L*(tens)\n",
    "    nu = float(input('Viscosidade do fluido: '))\n",
    "    nu = nu*10**(-6)\n",
    "    raio = float(input('Raio da amostra: '))\n",
    "    raio = raio*tens\n",
    "    A = 3.14*raio**2\n",
    "    vasao = float(input('Vasão em m^3/s: '))\n",
    "    u = A*vasao\n",
    "    Ma = u/c\n",
    "    Re = (u*L)/nu\n",
    "    Kn = Ma/Re\n",
    "    print(f'O número de Reynolds é {Re}, o número de Mach é {Ma} e o de Knudsen é {Kn}.')\n",
    "elif scale == 'cm':\n",
    "    tens = 10**(-2)# Definido em metros\n",
    "    L = float(input('Comprimento da amostra em centímetros: '))\n",
    "    L = L*(tens)\n",
    "    nu = float(input('Viscosidade do fluido: '))\n",
    "    nu = nu*10**(-6)\n",
    "    raio = float(input('Raio da amostra: '))\n",
    "    raio = raio*tens\n",
    "    A = 3.14*raio**2\n",
    "    vasao = float(input('Vasão em m^3/s: '))\n",
    "    u = A*vasao\n",
    "    Ma = u/c\n",
    "    Re = (u*L)/nu\n",
    "    Kn = Ma/Re\n",
    "    print(f'O número de Reynolds é {Re}, o número de Mach é {Ma} e o de Knudsen é {Kn}.')"
   ]
  },
  {
   "cell_type": "markdown",
   "id": "8d2ea8a1",
   "metadata": {},
   "source": [
    "##  Sistema Simulado\n",
    "\n",
    "Precisamos determinar os números adimensionais $Re=\\frac{\\mathbf{u}L_x}{\\nu^*}$, $Ma=\\frac{\\mathbf{u}}{\\left(c_s^{*}\\right)^2}$ e $Kn=\\frac{Ma}{Kn}.$\n",
    "Para isso, utilizamos uma das três abordagens encontradas no capítulo 7 do livro *Lattice Boltzmann Methode: Priciples and Practice*:\n",
    " \n",
    "- Definimos $0.5<\\tau^{*}<1.0$ (permite valores um pouco acima de $1.0$);\n",
    "- Determina-se a viscosidade adimencional;\n",
    "- Tentamos aproximar o número de Reynolds do sistema real variando a resolução e velocidade ($\\mathbf{u}<0.3$);\n",
    "- Com o tamanho do sistema, achamos a resolução;"
   ]
  },
  {
   "cell_type": "code",
   "execution_count": 5,
   "id": "83521b9d",
   "metadata": {},
   "outputs": [
    {
     "name": "stdout",
     "output_type": "stream",
     "text": [
      "Tempo de relaxação maior que 0.5 e não muito maior que 1.0: 0.6\n",
      "Teste uma resolução: 138\n",
      "Velocidade com número de Mach menor que 0.3: 0.000000002\n",
      "no\n",
      "O valor do Re é 8.280000000000004e-06, de Mach é 1.1547005383792518e-09, do tempo de relaxação é 0.6.\n"
     ]
    }
   ],
   "source": [
    "tau_L = float(input('Tempo de relaxação maior que 0.5 e não muito maior que 1.0: '))\n",
    "nu_L = (1/3)*(tau_L-0.5)\n",
    "L_L = float(input('Teste uma resolução: '))\n",
    "u_L = float(input('Velocidade com número de Mach menor que 0.3: '))\n",
    "Ma_L = u_L/1/(3**(1/2))\n",
    "while True:\n",
    "    if Ma_L < 0.3:\n",
    "        break\n",
    "    else:\n",
    "        u_L = float(input('Velocidade com número de Mach menor que 0.3: '))\n",
    "        Ma_L = u_L/(1/(3**(1/2)))      \n",
    "Re_L =  u_L*L_L/nu_L\n",
    "erro = 10\n",
    "if Re_L+erro < Re < Re_L-erro:\n",
    "    print('ok')\n",
    "    print(f'O valor do Re é {Re_L}, de Mach é {Ma_L}, do tempo de relaxação é {tau_L}.')\n",
    "else:\n",
    "    print('no')\n",
    "    print(f'O valor do Re é {Re_L}, de Mach é {Ma_L}, do tempo de relaxação é {tau_L}.')"
   ]
  },
  {
   "cell_type": "markdown",
   "id": "26f95d81",
   "metadata": {},
   "source": [
    "**Lista de Símbolos:**\n",
    "- $L_L$ = comprimento em unidade de redes de Boltzmann, ou seja o número de nós do gride;\n",
    "- $\\nu_L$ = viscosidade cinemática da salmora em unidades de redes de Boltzmann;\n",
    "- $\\tau$ = tempo de relaxação da salmora;\n",
    "- $\\rho_L$ = densidade da salmora em unidades de redes de Boltzmann;\n",
    "- $\\nu_{Lo}$ = viscosidade cinemática do óleo em unidades de redes de Boltzmann;\n",
    "- $\\rho_L$ = densidade do óleo em unidades de redes de Boltzmann\n",
    "\n",
    "\n",
    "obs: Os valores sem índices estão em unidades do SI.\n",
    "\n",
    "### Fator de conversão de comprimento $\\Delta x$\n",
    "\n",
    "\n",
    "\n",
    "Definimos aqui a escala caracterísitca pelos parâmetros $\\Delta x$, $\\Delta y$ e $\\Delta z$.\n",
    "\n",
    "Começamos com $\\Delta x$. Esse parâmetro é definido fazendo \n",
    "$$\\Delta x=\\frac{L}{L_L}$$. Vejamos o código abaixo usando $L=5.68 \\mu m$ e $L_L = 256$. Podemos ver isso na figura \n",
    "\n",
    "\n",
    "<figure> \n",
    "    <img src=\"Sistema.png\" alt=\"drawing\" width=\"500\"/>\n",
    "    <figcaption align = \"center\">\n",
    "        <b>Fig.1 - Figura 1 \n",
    "        </b>\n",
    "    </figcaption>\n",
    "</figure>\n",
    "\n",
    "Neste exemplo, temos \n",
    "$$\\Delta x=\\frac{L_L}{N}=\\frac{5.68}{256}=2.218\\times10^{-8}$$"
   ]
  },
  {
   "cell_type": "code",
   "execution_count": 6,
   "id": "56dc38f0",
   "metadata": {},
   "outputs": [
    {
     "name": "stdout",
     "output_type": "stream",
     "text": [
      "What Scale you want to work --- (mm), (cm)? cm\n",
      "Sample Lenght in centimeters: 7.07\n",
      "Number of nodes: 138\n",
      "dx = 0.0005123188405797101\n"
     ]
    }
   ],
   "source": [
    "import matplotlib.pyplot as plt\n",
    "import math\n",
    "import matplotlib.pyplot as plt\n",
    "import math\n",
    "\n",
    "scale = str(input('What Scale you want to work --- (mm), (cm)? '))\n",
    "if scale == 'mm':\n",
    "    tens = 10**(-6)# Definido em metros\n",
    "    L = float(input('Sample Lenght in micrometers: '))\n",
    "    L = L*(tens)\n",
    "    N = int(input('Number of nodes: '))\n",
    "    dx = L/N\n",
    "    print(f'dx = {dx}')\n",
    "elif scale == 'cm':\n",
    "    tens = 10**(-2)# Definido em metros\n",
    "    L = float(input('Sample Lenght in centimeters: '))\n",
    "    L = L*(tens)\n",
    "    N = int(input('Number of nodes: '))\n",
    "    dx = L/N\n",
    "    print(f'dx = {dx}')"
   ]
  },
  {
   "cell_type": "markdown",
   "id": "441b674c",
   "metadata": {},
   "source": [
    "### Fator de conversão de tempo $\\Delta t$\n",
    "\n",
    "\n",
    "Agora, para definir o $\\Delta t$, temos o seguinte fator de conversão \n",
    "$$\\nu = \\frac{(\\Delta x)^2}{\\Delta t}\\nu_{L}$$\n",
    "\n",
    "O primeiro passo é determinar o valor da viscosidade cinemática $\\mu$. Portanto, vamos observar que essa propriedade é calculada usando a viscosidade dinâmica $\\mu$ e a densidade $\\rho$. Portanto, temos \n",
    "$$\\nu_w = \\frac{\\mu_w}{\\rho_w},$$\n",
    " onde o índice $w$ significa water.\n",
    " Usamos os seguintes valores:\n",
    " - Viscosidade dinâmica: $0.9\\times10^{-3}\\,kg/m\\cdot s$ \n",
    " - Densidade: $997\\,kg/m^{3}$\n",
    "Encontramos assim\n",
    "$$\\nu_w = \\frac{\\mu_w}{\\rho_w}=9.02\\times10^{-7} m^2/s$$\n",
    "\n",
    "O segundo passo é encontrar a viscosidade cinemática em unidades de redes de Boltzmann. Para isso, usamos o parâmetro tempo de relaxação $\\tau $ (esse valor está em unidades de redes de Boltzmann, portanto, não iremos representar com o índice $L$ ), que é determinado usando a seguinte conversão \n",
    "\n",
    "\n",
    "$$\\nu_w = \\frac{1}{3}\\left(\\tau - \\frac{1}{2}\\right), $$ \n",
    "\n",
    "que vem da relação de Chapmann-Enskog. Para o regime laminar, temos que $\\tau = 1.2.$ Assim, Determinamos assim, $\\nu_L = 0.233$\n",
    "Agora que temos a viscosidade definida para as duas escalas, basta fazermos\n",
    "$$\\Delta t = \\frac{\\nu_{L}}{\\nu}(\\Delta x)^2 = 1.272\\times10^{-10}s$$"
   ]
  },
  {
   "cell_type": "code",
   "execution_count": 7,
   "id": "d4a1481c",
   "metadata": {},
   "outputs": [
    {
     "name": "stdout",
     "output_type": "stream",
     "text": [
      "Brine Dynamic Viscosity: 714.04\n",
      "Brine Density: 1058.058\n",
      "0.0006748590341928326\n",
      "dt = 1.2964218259638336e-05.\n"
     ]
    }
   ],
   "source": [
    "#Essa parte determina o valor da viscosidade cinemática a  partir da viscosidade dinâmica e densidade da salmora\n",
    "mu_brine = float(input('Brine Dynamic Viscosity: ')) #Definido em kg/ms\n",
    "mu_brine = mu_brine*10**(-3) #Definido em metros \n",
    "rho_brine = float(input('Brine Density: ')) #Definido em kg/m^3\n",
    "nu_brine = mu_brine/rho_brine #Definido em m^2/s\n",
    "print(nu_brine)\n",
    "#Essa parte faz o cálculo da viscosidade cinemática em unidades de redes de Boltzmann usando o tempo de relaxação.\n",
    "nu_L = (1/3)*(tau_L - 0.5)\n",
    "dt = (nu_L/nu_brine)*(dx)**2\n",
    "print(f'dt = {dt}.')"
   ]
  },
  {
   "cell_type": "markdown",
   "id": "ec8b4754",
   "metadata": {},
   "source": [
    "### Fator de conversão de massa $\\Delta m$\n",
    "\n",
    "\n",
    "O fator de conversão de massa é calculado usando\n",
    "$$\\Delta m = \\left(\\frac{\\rho}{\\rho_L}\\right)\\Delta x^3.$$\n",
    "\n",
    "\n",
    "Pra isso, em unidades de redes de Boltzmann, definimos $\\rho_L = 1.$\n",
    "Assim, para este exemplo, temos para este exemplo\n",
    "$$\\Delta m = \\left(\\frac{\\rho_w}{\\rho_L}\\right)\\Delta x^3 = 1.089\\times 10^{-20}\\,kg $$\n"
   ]
  },
  {
   "cell_type": "code",
   "execution_count": 8,
   "id": "92655182",
   "metadata": {},
   "outputs": [
    {
     "name": "stdout",
     "output_type": "stream",
     "text": [
      "Densidade em unidades de redes de Boltzmann: 1.0\n",
      "dm = 1.422756103722021e-07 \n"
     ]
    }
   ],
   "source": [
    "#Essa parte determina o valor da viscosidade cinemática a  partir da viscosidade dinâmica e densidade da salmora\n",
    "rho_L = float(input('Densidade em unidades de redes de Boltzmann: ')) #1\n",
    "dm = (rho_brine/rho_L)*(dx)**3\n",
    "print(f'dm = {dm} ')"
   ]
  },
  {
   "cell_type": "markdown",
   "id": "4dfe121b",
   "metadata": {},
   "source": [
    "Agora vamos calcular os parâmetros com o óleo. Usando a mesma metodologia, a viscosidade dinâmica do óleo é $\\nu_o = 17.8\\times 10^{-3}$ e a densidade é $\\rho_o = 845 kg/m^3.$ assim, podemos calcular a viscosidade cinemática assim\n",
    "$$\\mu_o = \\frac{\\mu_o}{\\rho_o} = 2.10\\times 10^{-5}\\,m^2/s.$$\n",
    "Agora já sabemos calcular a viscosidade em unidades de redes de Boltzmann usando\n",
    "$$\\nu_{Lo} = \\frac{\\Delta t}{(\\Delta x)^2} \\nu_o = 5.434.$$\n",
    "\n",
    "Daí, podemos determinar o tempo de relaxação para o óleo, que é\n",
    "$$\\nu_{Lo} = \\frac{1}{3}\\left(\\tau_{Lo} - \\frac{1}{2}\\right)$$\n",
    "e assim temos $\\tau = 16.84.$\n",
    "\n",
    "Por fim, determinamos a densidade do óleo em unidades de redes de Boltzmann fazendo\n",
    "$$\\rho_{Lo} = \\frac{(\\Delta x)^3}{\\Delta m} \\rho_o = 0.84$$"
   ]
  },
  {
   "cell_type": "code",
   "execution_count": null,
   "id": "5188e8ce",
   "metadata": {},
   "outputs": [],
   "source": [
    "#Essa parte determina o valor da viscosidade cinemática a  partir da viscosidade dinâmica e densidade do óleo\n",
    "mu_oil = float(input('Oil Dynamic Viscosity: ')) #Definido em kg/ms\n",
    "mu_oil = mu_oil*10**(-3) #Definido em metros \n",
    "rho_oil = float(input('Oil Density: ')) #Definido em kg/m^3\n",
    "nu_oil = mu_oil/rho_oil #Definido em m^2/s\n",
    "print(f'nu_oil = {nu_oil}')\n",
    "#Essa parte determina o valor da viscosidade em unidades de redes de Boltzmann\n",
    "nu_Lo = (dt/(dx)**2)*nu_oil\n",
    "#Essa parte calcula o tempo de relaxação do óleo\n",
    "tau_o = 3*nu_Lo + 1/2\n",
    "print(f'tau_o = {tau_o}.')\n",
    "#Essa parte calcula a densidade do óleo em unidades de redes de Boltzmann\n",
    "rho_Lo = ((dx)**3/dm)*rho_oil\n",
    "print(f'rho_Lo = {rho_Lo}.')"
   ]
  },
  {
   "cell_type": "code",
   "execution_count": 1,
   "id": "e5c7c0f0",
   "metadata": {},
   "outputs": [
    {
     "ename": "KeyboardInterrupt",
     "evalue": "Interrupted by user",
     "output_type": "error",
     "traceback": [
      "\u001b[0;31m---------------------------------------------------------------------------\u001b[0m",
      "\u001b[0;31mKeyboardInterrupt\u001b[0m                         Traceback (most recent call last)",
      "\u001b[0;32m/tmp/ipykernel_1355779/1280493341.py\u001b[0m in \u001b[0;36m<module>\u001b[0;34m\u001b[0m\n\u001b[1;32m      1\u001b[0m \u001b[0;31m#Essa parte determina o parâmetro de tensão interfacial\u001b[0m\u001b[0;34m\u001b[0m\u001b[0;34m\u001b[0m\u001b[0m\n\u001b[1;32m      2\u001b[0m \u001b[0;31m#====Interfacial Tension Brine====\u001b[0m\u001b[0;34m\u001b[0m\u001b[0;34m\u001b[0m\u001b[0m\n\u001b[0;32m----> 3\u001b[0;31m \u001b[0mgamma_LBM\u001b[0m \u001b[0;34m=\u001b[0m \u001b[0mfloat\u001b[0m\u001b[0;34m(\u001b[0m\u001b[0minput\u001b[0m\u001b[0;34m(\u001b[0m\u001b[0;34m'Valor de tensão interfacial em unidades de redes de Boltzmann: '\u001b[0m\u001b[0;34m)\u001b[0m\u001b[0;34m)\u001b[0m\u001b[0;34m\u001b[0m\u001b[0;34m\u001b[0m\u001b[0m\n\u001b[0m\u001b[1;32m      4\u001b[0m \u001b[0mD\u001b[0m \u001b[0;34m=\u001b[0m \u001b[0;34m(\u001b[0m\u001b[0;34m(\u001b[0m\u001b[0;34m-\u001b[0m\u001b[0;36m1.721\u001b[0m\u001b[0;34m)\u001b[0m\u001b[0;34m**\u001b[0m\u001b[0;36m2\u001b[0m \u001b[0;34m-\u001b[0m \u001b[0;36m4\u001b[0m\u001b[0;34m*\u001b[0m\u001b[0;36m1.361\u001b[0m\u001b[0;34m*\u001b[0m\u001b[0;34m(\u001b[0m\u001b[0mgamma_LBM\u001b[0m \u001b[0;34m+\u001b[0m \u001b[0;36m0.178\u001b[0m\u001b[0;34m)\u001b[0m\u001b[0;34m)\u001b[0m\u001b[0;34m\u001b[0m\u001b[0;34m\u001b[0m\u001b[0m\n\u001b[1;32m      5\u001b[0m \u001b[0mx1\u001b[0m \u001b[0;34m=\u001b[0m \u001b[0;34m(\u001b[0m\u001b[0;34m-\u001b[0m\u001b[0;34m(\u001b[0m\u001b[0;34m-\u001b[0m\u001b[0;36m1.721\u001b[0m\u001b[0;34m)\u001b[0m \u001b[0;34m+\u001b[0m \u001b[0mD\u001b[0m\u001b[0;34m**\u001b[0m\u001b[0;34m(\u001b[0m\u001b[0;36m1\u001b[0m\u001b[0;34m/\u001b[0m\u001b[0;36m2\u001b[0m\u001b[0;34m)\u001b[0m\u001b[0;34m)\u001b[0m \u001b[0;34m/\u001b[0m \u001b[0;34m(\u001b[0m\u001b[0;36m2\u001b[0m\u001b[0;34m*\u001b[0m\u001b[0;34m(\u001b[0m\u001b[0;36m1.361\u001b[0m\u001b[0;34m)\u001b[0m\u001b[0;34m)\u001b[0m\u001b[0;34m\u001b[0m\u001b[0;34m\u001b[0m\u001b[0m\n",
      "\u001b[0;32m~/anaconda3/lib/python3.9/site-packages/ipykernel/kernelbase.py\u001b[0m in \u001b[0;36mraw_input\u001b[0;34m(self, prompt)\u001b[0m\n\u001b[1;32m   1004\u001b[0m                 \u001b[0;34m\"raw_input was called, but this frontend does not support input requests.\"\u001b[0m\u001b[0;34m\u001b[0m\u001b[0;34m\u001b[0m\u001b[0m\n\u001b[1;32m   1005\u001b[0m             )\n\u001b[0;32m-> 1006\u001b[0;31m         return self._input_request(\n\u001b[0m\u001b[1;32m   1007\u001b[0m             \u001b[0mstr\u001b[0m\u001b[0;34m(\u001b[0m\u001b[0mprompt\u001b[0m\u001b[0;34m)\u001b[0m\u001b[0;34m,\u001b[0m\u001b[0;34m\u001b[0m\u001b[0;34m\u001b[0m\u001b[0m\n\u001b[1;32m   1008\u001b[0m             \u001b[0mself\u001b[0m\u001b[0;34m.\u001b[0m\u001b[0m_parent_ident\u001b[0m\u001b[0;34m[\u001b[0m\u001b[0;34m\"shell\"\u001b[0m\u001b[0;34m]\u001b[0m\u001b[0;34m,\u001b[0m\u001b[0;34m\u001b[0m\u001b[0;34m\u001b[0m\u001b[0m\n",
      "\u001b[0;32m~/anaconda3/lib/python3.9/site-packages/ipykernel/kernelbase.py\u001b[0m in \u001b[0;36m_input_request\u001b[0;34m(self, prompt, ident, parent, password)\u001b[0m\n\u001b[1;32m   1049\u001b[0m             \u001b[0;32mexcept\u001b[0m \u001b[0mKeyboardInterrupt\u001b[0m\u001b[0;34m:\u001b[0m\u001b[0;34m\u001b[0m\u001b[0;34m\u001b[0m\u001b[0m\n\u001b[1;32m   1050\u001b[0m                 \u001b[0;31m# re-raise KeyboardInterrupt, to truncate traceback\u001b[0m\u001b[0;34m\u001b[0m\u001b[0;34m\u001b[0m\u001b[0m\n\u001b[0;32m-> 1051\u001b[0;31m                 \u001b[0;32mraise\u001b[0m \u001b[0mKeyboardInterrupt\u001b[0m\u001b[0;34m(\u001b[0m\u001b[0;34m\"Interrupted by user\"\u001b[0m\u001b[0;34m)\u001b[0m \u001b[0;32mfrom\u001b[0m \u001b[0;32mNone\u001b[0m\u001b[0;34m\u001b[0m\u001b[0;34m\u001b[0m\u001b[0m\n\u001b[0m\u001b[1;32m   1052\u001b[0m             \u001b[0;32mexcept\u001b[0m \u001b[0mException\u001b[0m\u001b[0;34m:\u001b[0m\u001b[0;34m\u001b[0m\u001b[0;34m\u001b[0m\u001b[0m\n\u001b[1;32m   1053\u001b[0m                 \u001b[0mself\u001b[0m\u001b[0;34m.\u001b[0m\u001b[0mlog\u001b[0m\u001b[0;34m.\u001b[0m\u001b[0mwarning\u001b[0m\u001b[0;34m(\u001b[0m\u001b[0;34m\"Invalid Message:\"\u001b[0m\u001b[0;34m,\u001b[0m \u001b[0mexc_info\u001b[0m\u001b[0;34m=\u001b[0m\u001b[0;32mTrue\u001b[0m\u001b[0;34m)\u001b[0m\u001b[0;34m\u001b[0m\u001b[0;34m\u001b[0m\u001b[0m\n",
      "\u001b[0;31mKeyboardInterrupt\u001b[0m: Interrupted by user"
     ]
    }
   ],
   "source": [
    "#Essa parte determina o parâmetro de tensão interfacial\n",
    "#====Interfacial Tension Brine====\n",
    "gamma_LBM = float(input('Valor de tensão interfacial em unidades de redes de Boltzmann: '))\n",
    "D = ((-1.721)**2 - 4*1.361*(gamma_LBM + 0.178))\n",
    "x1 = (-(-1.721) + D**(1/2)) / (2*(1.361))\n",
    "x2 = (-(-1.721) - D**(1/2)) / (2*(1.361))\n",
    "print(f'Os valores de g são {x1} e {x2}.')"
   ]
  },
  {
   "cell_type": "code",
   "execution_count": null,
   "id": "0cbef966",
   "metadata": {},
   "outputs": [],
   "source": []
  }
 ],
 "metadata": {
  "kernelspec": {
   "display_name": "Python 3 (ipykernel)",
   "language": "python",
   "name": "python3"
  },
  "language_info": {
   "codemirror_mode": {
    "name": "ipython",
    "version": 3
   },
   "file_extension": ".py",
   "mimetype": "text/x-python",
   "name": "python",
   "nbconvert_exporter": "python",
   "pygments_lexer": "ipython3",
   "version": "3.9.7"
  }
 },
 "nbformat": 4,
 "nbformat_minor": 5
}
